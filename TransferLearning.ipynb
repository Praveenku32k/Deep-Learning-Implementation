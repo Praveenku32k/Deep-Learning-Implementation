{
  "nbformat": 4,
  "nbformat_minor": 0,
  "metadata": {
    "colab": {
      "name": "TransferLearning.ipynb",
      "provenance": [],
      "mount_file_id": "1_m1UhGrqrG70-CK7v7wuj03V288vBBBx",
      "authorship_tag": "ABX9TyNTHN9yNWQ9wOQ50Ybsw1ov",
      "include_colab_link": true
    },
    "kernelspec": {
      "name": "python3",
      "display_name": "Python 3"
    },
    "language_info": {
      "name": "python"
    },
    "accelerator": "GPU"
  },
  "cells": [
    {
      "cell_type": "markdown",
      "metadata": {
        "id": "view-in-github",
        "colab_type": "text"
      },
      "source": [
        "<a href=\"https://colab.research.google.com/github/Praveenku32k/Deep-Learning-Implementation/blob/main/TransferLearning.ipynb\" target=\"_parent\"><img src=\"https://colab.research.google.com/assets/colab-badge.svg\" alt=\"Open In Colab\"/></a>"
      ]
    },
    {
      "cell_type": "code",
      "metadata": {
        "id": "n6BoEALFxVrO"
      },
      "source": [
        "ROOT=\"/content/drive/MyDrive/Artifical_Neural_Network_class_Lab\""
      ],
      "execution_count": 1,
      "outputs": []
    },
    {
      "cell_type": "code",
      "metadata": {
        "id": "g-LTjuedyZXa"
      },
      "source": [
        "import os\n",
        "os.chdir(ROOT)"
      ],
      "execution_count": 2,
      "outputs": []
    },
    {
      "cell_type": "code",
      "metadata": {
        "id": "KWJy6i3GyiLr"
      },
      "source": [
        "assert os.getcwd() ==ROOT"
      ],
      "execution_count": 3,
      "outputs": []
    },
    {
      "cell_type": "code",
      "metadata": {
        "id": "ELQg25TXyoZd"
      },
      "source": [
        "import os\n",
        "import tensorflow as tf\n",
        "import numpy as np\n",
        "import pandas as pd\n",
        "import matplotlib.pyplot as plt\n",
        "import seaborn as sns\n",
        "plt.style.use(\"fivethirtyeight\")\n",
        "%load_ext tensorboard"
      ],
      "execution_count": 4,
      "outputs": []
    },
    {
      "cell_type": "code",
      "metadata": {
        "colab": {
          "base_uri": "https://localhost:8080/"
        },
        "id": "w-ZkBx6Z6Arr",
        "outputId": "e2dafbca-e404-4a58-f483-bdc3e74e1bfd"
      },
      "source": [
        "(X_train_full,y_train_full),(X_test,y_test)=tf.keras.datasets.mnist.load_data()\n",
        "X_train_full=X_train_full /255.0\n",
        "X_test=X_test /255.0\n",
        "X_valid,X_train=X_train_full[:5000],X_train_full[5000:]\n",
        "y_valid,y_train=y_train_full[:5000],y_train_full[5000:]"
      ],
      "execution_count": 5,
      "outputs": [
        {
          "output_type": "stream",
          "name": "stdout",
          "text": [
            "Downloading data from https://storage.googleapis.com/tensorflow/tf-keras-datasets/mnist.npz\n",
            "11493376/11490434 [==============================] - 0s 0us/step\n",
            "11501568/11490434 [==============================] - 0s 0us/step\n"
          ]
        }
      ]
    },
    {
      "cell_type": "code",
      "metadata": {
        "id": "KHY0Q8Yj62Ek"
      },
      "source": [
        "tf.random.set_seed(42)#I AM USING SET_SEED\n",
        "np.random.seed(42)\n",
        "\n",
        "LAYERS=[\n",
        "        tf.keras.layers.Flatten(input_shape=[28,28]),#WHY WE ARE USING he_normal\n",
        "        tf.keras.layers.Dense(300,kernel_initializer=\"he_normal\"),#HE_NORAMAL IS VARIENT OF ReLU.#kernal initilizer ,itnothing bbut the weight update rule.\n",
        "        tf.keras.layers.LeakyReLU(),#Here i am using LeakyRelu function \n",
        "        tf.keras.layers.Dense(100,kernel_initializer=\"he_normal\"),\n",
        "        tf.keras.layers.LeakyReLU(),\n",
        "        tf.keras.layers.Dense(10,activation=\"softmax\")\n",
        "\n",
        "]\n",
        "model=tf.keras.models.Sequential(LAYERS)"
      ],
      "execution_count": 6,
      "outputs": []
    },
    {
      "cell_type": "code",
      "metadata": {
        "id": "VIe111nD77gm"
      },
      "source": [
        "model.compile(loss=\"sparse_categorical_crossentropy\",\n",
        "              optimizer=tf.keras.optimizers.SGD(learning_rate=1e-3),\n",
        "              metrics=[\"accuracy\"]\n",
        "              )"
      ],
      "execution_count": 7,
      "outputs": []
    },
    {
      "cell_type": "code",
      "metadata": {
        "colab": {
          "base_uri": "https://localhost:8080/"
        },
        "id": "Ob_-RlR49OKY",
        "outputId": "256ee458-33c2-4346-bc4c-27b2d2ed460e"
      },
      "source": [
        "model.summary()"
      ],
      "execution_count": 8,
      "outputs": [
        {
          "output_type": "stream",
          "name": "stdout",
          "text": [
            "Model: \"sequential\"\n",
            "_________________________________________________________________\n",
            "Layer (type)                 Output Shape              Param #   \n",
            "=================================================================\n",
            "flatten (Flatten)            (None, 784)               0         \n",
            "_________________________________________________________________\n",
            "dense (Dense)                (None, 300)               235500    \n",
            "_________________________________________________________________\n",
            "leaky_re_lu (LeakyReLU)      (None, 300)               0         \n",
            "_________________________________________________________________\n",
            "dense_1 (Dense)              (None, 100)               30100     \n",
            "_________________________________________________________________\n",
            "leaky_re_lu_1 (LeakyReLU)    (None, 100)               0         \n",
            "_________________________________________________________________\n",
            "dense_2 (Dense)              (None, 10)                1010      \n",
            "=================================================================\n",
            "Total params: 266,610\n",
            "Trainable params: 266,610\n",
            "Non-trainable params: 0\n",
            "_________________________________________________________________\n"
          ]
        }
      ]
    },
    {
      "cell_type": "code",
      "metadata": {
        "colab": {
          "base_uri": "https://localhost:8080/"
        },
        "id": "hjaMU3u49d_z",
        "outputId": "4da865c1-2465-466c-b3f9-8b2ae6d761ca"
      },
      "source": [
        "histroy=model.fit(X_train,y_train,epochs=10,\n",
        "                  validation_data=(X_valid,y_valid),verbose=2)"
      ],
      "execution_count": 9,
      "outputs": [
        {
          "output_type": "stream",
          "name": "stdout",
          "text": [
            "Epoch 1/10\n",
            "1719/1719 - 7s - loss: 1.5275 - accuracy: 0.5970 - val_loss: 0.9444 - val_accuracy: 0.7980\n",
            "Epoch 2/10\n",
            "1719/1719 - 4s - loss: 0.7465 - accuracy: 0.8287 - val_loss: 0.5868 - val_accuracy: 0.8596\n",
            "Epoch 3/10\n",
            "1719/1719 - 4s - loss: 0.5412 - accuracy: 0.8624 - val_loss: 0.4685 - val_accuracy: 0.8834\n",
            "Epoch 4/10\n",
            "1719/1719 - 4s - loss: 0.4591 - accuracy: 0.8771 - val_loss: 0.4104 - val_accuracy: 0.8940\n",
            "Epoch 5/10\n",
            "1719/1719 - 4s - loss: 0.4142 - accuracy: 0.8869 - val_loss: 0.3758 - val_accuracy: 0.9006\n",
            "Epoch 6/10\n",
            "1719/1719 - 4s - loss: 0.3852 - accuracy: 0.8938 - val_loss: 0.3525 - val_accuracy: 0.9052\n",
            "Epoch 7/10\n",
            "1719/1719 - 4s - loss: 0.3644 - accuracy: 0.8979 - val_loss: 0.3348 - val_accuracy: 0.9102\n",
            "Epoch 8/10\n",
            "1719/1719 - 4s - loss: 0.3485 - accuracy: 0.9022 - val_loss: 0.3209 - val_accuracy: 0.9138\n",
            "Epoch 9/10\n",
            "1719/1719 - 4s - loss: 0.3356 - accuracy: 0.9053 - val_loss: 0.3111 - val_accuracy: 0.9152\n",
            "Epoch 10/10\n",
            "1719/1719 - 4s - loss: 0.3251 - accuracy: 0.9077 - val_loss: 0.3016 - val_accuracy: 0.9170\n"
          ]
        }
      ]
    },
    {
      "cell_type": "code",
      "metadata": {
        "id": "cpwacHa393Fr"
      },
      "source": [
        "model.save(\"Pretrained_mnist_model.h5\")"
      ],
      "execution_count": 10,
      "outputs": []
    },
    {
      "cell_type": "markdown",
      "metadata": {
        "id": "IRv8AvX_-ai8"
      },
      "source": [
        "###Transer Leraning"
      ]
    },
    {
      "cell_type": "code",
      "metadata": {
        "id": "w_yqLbyG-W6_"
      },
      "source": [
        "Pretrained_mnist_model=tf.keras.models.load_model(\"Pretrained_mnist_model.h5\")"
      ],
      "execution_count": 11,
      "outputs": []
    },
    {
      "cell_type": "code",
      "metadata": {
        "colab": {
          "base_uri": "https://localhost:8080/"
        },
        "id": "YeiSIJNZ-1l2",
        "outputId": "fd08c450-3e30-4b7a-8608-ef3d866908bc"
      },
      "source": [
        "Pretrained_mnist_model.summary()"
      ],
      "execution_count": 12,
      "outputs": [
        {
          "output_type": "stream",
          "name": "stdout",
          "text": [
            "Model: \"sequential\"\n",
            "_________________________________________________________________\n",
            "Layer (type)                 Output Shape              Param #   \n",
            "=================================================================\n",
            "flatten (Flatten)            (None, 784)               0         \n",
            "_________________________________________________________________\n",
            "dense (Dense)                (None, 300)               235500    \n",
            "_________________________________________________________________\n",
            "leaky_re_lu (LeakyReLU)      (None, 300)               0         \n",
            "_________________________________________________________________\n",
            "dense_1 (Dense)              (None, 100)               30100     \n",
            "_________________________________________________________________\n",
            "leaky_re_lu_1 (LeakyReLU)    (None, 100)               0         \n",
            "_________________________________________________________________\n",
            "dense_2 (Dense)              (None, 10)                1010      \n",
            "=================================================================\n",
            "Total params: 266,610\n",
            "Trainable params: 266,610\n",
            "Non-trainable params: 0\n",
            "_________________________________________________________________\n"
          ]
        }
      ]
    },
    {
      "cell_type": "code",
      "metadata": {
        "colab": {
          "base_uri": "https://localhost:8080/"
        },
        "id": "GF8qM1o_-7Zk",
        "outputId": "0fbe84fc-cefa-451f-e3e8-167641549c8e"
      },
      "source": [
        "for layer in Pretrained_mnist_model.layers:\n",
        "  print(f\"{layer.name}:{layer.trainable}\")"
      ],
      "execution_count": 13,
      "outputs": [
        {
          "output_type": "stream",
          "name": "stdout",
          "text": [
            "flatten:True\n",
            "dense:True\n",
            "leaky_re_lu:True\n",
            "dense_1:True\n",
            "leaky_re_lu_1:True\n",
            "dense_2:True\n"
          ]
        }
      ]
    },
    {
      "cell_type": "code",
      "metadata": {
        "colab": {
          "base_uri": "https://localhost:8080/"
        },
        "id": "j4-zt4rB_D93",
        "outputId": "a6e1b75d-d086-45c9-cec1-952a6fd7d845"
      },
      "source": [
        "for layer in Pretrained_mnist_model.layers[:-1]:#Here we making rthe last row as flase so we are doing [:-1]\n",
        "  layer.trainable=False\n",
        "  print(f\"{layer.name}:{layer.trainable}\")"
      ],
      "execution_count": 14,
      "outputs": [
        {
          "output_type": "stream",
          "name": "stdout",
          "text": [
            "flatten:False\n",
            "dense:False\n",
            "leaky_re_lu:False\n",
            "dense_1:False\n",
            "leaky_re_lu_1:False\n"
          ]
        }
      ]
    },
    {
      "cell_type": "code",
      "metadata": {
        "colab": {
          "base_uri": "https://localhost:8080/"
        },
        "id": "A5ogWNyb_eXt",
        "outputId": "1f2f3205-a079-48e5-99d2-b6ed1c2c222b"
      },
      "source": [
        "for layer in Pretrained_mnist_model.layers:\n",
        "  print(f\"{layer.name}:{layer.trainable}\")#only last is trained as false  we can see it "
      ],
      "execution_count": 15,
      "outputs": [
        {
          "output_type": "stream",
          "name": "stdout",
          "text": [
            "flatten:False\n",
            "dense:False\n",
            "leaky_re_lu:False\n",
            "dense_1:False\n",
            "leaky_re_lu_1:False\n",
            "dense_2:True\n"
          ]
        }
      ]
    },
    {
      "cell_type": "code",
      "metadata": {
        "id": "C8Lx821N_rp-"
      },
      "source": [
        "lower_Pretrained_layers=Pretrained_mnist_model.layers[:-1]\n",
        "new_model=tf.keras.models.Sequential(lower_Pretrained_layers)\n",
        "new_model.add(\n",
        "    tf.keras.layers.Dense(2,activation=\"softmax\")\n",
        ")"
      ],
      "execution_count": 16,
      "outputs": []
    },
    {
      "cell_type": "code",
      "metadata": {
        "colab": {
          "base_uri": "https://localhost:8080/"
        },
        "id": "wKJqoaGTAmI7",
        "outputId": "6c7f3957-bfeb-49f5-bcf3-9a8bf212c3a9"
      },
      "source": [
        "new_model.summary()#Non-trainable params: 265,600 and here we are training the last row only ."
      ],
      "execution_count": 17,
      "outputs": [
        {
          "output_type": "stream",
          "name": "stdout",
          "text": [
            "Model: \"sequential_1\"\n",
            "_________________________________________________________________\n",
            "Layer (type)                 Output Shape              Param #   \n",
            "=================================================================\n",
            "flatten (Flatten)            (None, 784)               0         \n",
            "_________________________________________________________________\n",
            "dense (Dense)                (None, 300)               235500    \n",
            "_________________________________________________________________\n",
            "leaky_re_lu (LeakyReLU)      (None, 300)               0         \n",
            "_________________________________________________________________\n",
            "dense_1 (Dense)              (None, 100)               30100     \n",
            "_________________________________________________________________\n",
            "leaky_re_lu_1 (LeakyReLU)    (None, 100)               0         \n",
            "_________________________________________________________________\n",
            "dense_3 (Dense)              (None, 2)                 202       \n",
            "=================================================================\n",
            "Total params: 265,802\n",
            "Trainable params: 202\n",
            "Non-trainable params: 265,600\n",
            "_________________________________________________________________\n"
          ]
        }
      ]
    },
    {
      "cell_type": "markdown",
      "metadata": {
        "id": "VCgnKLW0BNel"
      },
      "source": [
        "*** *ONLY I AM TRAINING THE LAST ROW IS GOING TO BE TRAINED  NOT THE OTHERS ROWS* ***"
      ]
    },
    {
      "cell_type": "code",
      "metadata": {
        "colab": {
          "base_uri": "https://localhost:8080/"
        },
        "id": "URmRTgx4A1Rs",
        "outputId": "3c104843-76c8-4442-807a-b93b4dc9c891"
      },
      "source": [
        "np.unique(y_train)"
      ],
      "execution_count": 18,
      "outputs": [
        {
          "output_type": "execute_result",
          "data": {
            "text/plain": [
              "array([0, 1, 2, 3, 4, 5, 6, 7, 8, 9], dtype=uint8)"
            ]
          },
          "metadata": {},
          "execution_count": 18
        }
      ]
    },
    {
      "cell_type": "code",
      "metadata": {
        "id": "HgrTIVNBEefH"
      },
      "source": [
        "#y_train_bin,y_test_bin,y_valid_bin             #find even odd value from the y_train"
      ],
      "execution_count": 19,
      "outputs": []
    },
    {
      "cell_type": "code",
      "metadata": {
        "colab": {
          "base_uri": "https://localhost:8080/"
        },
        "id": "DMYGkL-PE6u7",
        "outputId": "e64f0391-89c9-4b1f-8d50-20957bd933cb"
      },
      "source": [
        "np.where(y_train%2==0,1,0)"
      ],
      "execution_count": 20,
      "outputs": [
        {
          "output_type": "execute_result",
          "data": {
            "text/plain": [
              "array([0, 0, 1, ..., 0, 1, 1])"
            ]
          },
          "metadata": {},
          "execution_count": 20
        }
      ]
    },
    {
      "cell_type": "code",
      "metadata": {
        "colab": {
          "base_uri": "https://localhost:8080/"
        },
        "id": "gp_79aeaFOQO",
        "outputId": "e962c4d3-ec64-4a29-bd33-2783561f1f14"
      },
      "source": [
        "y_train[0], y_train[-1]#checking for odd even"
      ],
      "execution_count": 21,
      "outputs": [
        {
          "output_type": "execute_result",
          "data": {
            "text/plain": [
              "(7, 8)"
            ]
          },
          "metadata": {},
          "execution_count": 21
        }
      ]
    },
    {
      "cell_type": "code",
      "metadata": {
        "id": "XTO6oBqIFiV4"
      },
      "source": [
        "def update_even_odd_labels(labels):\n",
        "  for idx,label in enumerate(labels):\n",
        "    labels[idx]=np.where(label %2==0,1,0)\n",
        "  return labels"
      ],
      "execution_count": 22,
      "outputs": []
    },
    {
      "cell_type": "code",
      "metadata": {
        "id": "7HmF3PKeFvoY"
      },
      "source": [
        "y_train_bin,y_test_bin,y_valid_bin=update_even_odd_labels([y_train,y_test,y_valid])"
      ],
      "execution_count": 23,
      "outputs": []
    },
    {
      "cell_type": "code",
      "metadata": {
        "colab": {
          "base_uri": "https://localhost:8080/"
        },
        "id": "8i78VNdPGoPa",
        "outputId": "6fe8a6a9-206e-4f77-fe3f-23cef5a39aa9"
      },
      "source": [
        "np.unique(y_valid_bin)"
      ],
      "execution_count": 24,
      "outputs": [
        {
          "output_type": "execute_result",
          "data": {
            "text/plain": [
              "array([0, 1])"
            ]
          },
          "metadata": {},
          "execution_count": 24
        }
      ]
    },
    {
      "cell_type": "code",
      "metadata": {
        "colab": {
          "base_uri": "https://localhost:8080/"
        },
        "id": "MbeMnJ4THsXb",
        "outputId": "46f15890-f470-4b2c-c46d-de9b241af767"
      },
      "source": [
        "new_model.compile(loss=\"sparse_categorical_crossentropy\",\n",
        "              optimizer=tf.keras.optimizers.SGD(learning_rate=1e-3),\n",
        "              metrics=[\"accuracy\"]\n",
        "              )\n",
        "#here is accuarcy is more then the previous trained .example of child and a graguate student who is more trained.\n",
        "#model zoo for in tensorflow .you can utilize this model.\n",
        "\n",
        "histroy=new_model.fit(X_train,y_train_bin,epochs=10,\n",
        "                  validation_data=(X_valid,y_valid_bin),verbose=2)"
      ],
      "execution_count": 25,
      "outputs": [
        {
          "output_type": "stream",
          "name": "stdout",
          "text": [
            "Epoch 1/10\n",
            "1719/1719 - 4s - loss: 0.3898 - accuracy: 0.8288 - val_loss: 0.3247 - val_accuracy: 0.8676\n",
            "Epoch 2/10\n",
            "1719/1719 - 4s - loss: 0.3300 - accuracy: 0.8602 - val_loss: 0.3049 - val_accuracy: 0.8754\n",
            "Epoch 3/10\n",
            "1719/1719 - 4s - loss: 0.3163 - accuracy: 0.8660 - val_loss: 0.2948 - val_accuracy: 0.8796\n",
            "Epoch 4/10\n",
            "1719/1719 - 4s - loss: 0.3083 - accuracy: 0.8701 - val_loss: 0.2884 - val_accuracy: 0.8832\n",
            "Epoch 5/10\n",
            "1719/1719 - 4s - loss: 0.3023 - accuracy: 0.8725 - val_loss: 0.2834 - val_accuracy: 0.8846\n",
            "Epoch 6/10\n",
            "1719/1719 - 4s - loss: 0.2978 - accuracy: 0.8753 - val_loss: 0.2792 - val_accuracy: 0.8874\n",
            "Epoch 7/10\n",
            "1719/1719 - 4s - loss: 0.2939 - accuracy: 0.8772 - val_loss: 0.2758 - val_accuracy: 0.8872\n",
            "Epoch 8/10\n",
            "1719/1719 - 4s - loss: 0.2907 - accuracy: 0.8788 - val_loss: 0.2728 - val_accuracy: 0.8890\n",
            "Epoch 9/10\n",
            "1719/1719 - 4s - loss: 0.2876 - accuracy: 0.8797 - val_loss: 0.2708 - val_accuracy: 0.8906\n",
            "Epoch 10/10\n",
            "1719/1719 - 4s - loss: 0.2851 - accuracy: 0.8817 - val_loss: 0.2678 - val_accuracy: 0.8932\n"
          ]
        }
      ]
    },
    {
      "cell_type": "code",
      "metadata": {
        "colab": {
          "base_uri": "https://localhost:8080/"
        },
        "id": "xW8ids9pIS_S",
        "outputId": "cb00e528-a1b6-4a45-bcc2-c2419317927b"
      },
      "source": [
        "new_model.evaluate(X_test,y_test_bin)"
      ],
      "execution_count": 26,
      "outputs": [
        {
          "output_type": "stream",
          "name": "stdout",
          "text": [
            "313/313 [==============================] - 1s 2ms/step - loss: 0.2768 - accuracy: 0.8861\n"
          ]
        },
        {
          "output_type": "execute_result",
          "data": {
            "text/plain": [
              "[0.2768370509147644, 0.8860999941825867]"
            ]
          },
          "metadata": {},
          "execution_count": 26
        }
      ]
    },
    {
      "cell_type": "code",
      "metadata": {
        "colab": {
          "base_uri": "https://localhost:8080/"
        },
        "id": "l8grrt1FLPeq",
        "outputId": "e04a0fb0-169b-42ea-964c-db881a295a54"
      },
      "source": [
        "X_new=X_test[:3]\n",
        "\n",
        "y_test[:3],y_test_bin[:3]"
      ],
      "execution_count": 27,
      "outputs": [
        {
          "output_type": "execute_result",
          "data": {
            "text/plain": [
              "(array([7, 2, 1], dtype=uint8), array([0, 1, 0]))"
            ]
          },
          "metadata": {},
          "execution_count": 27
        }
      ]
    },
    {
      "cell_type": "code",
      "metadata": {
        "colab": {
          "base_uri": "https://localhost:8080/"
        },
        "id": "rfLxyLQbLcHH",
        "outputId": "47f025d7-642a-46d3-cba9-ae19a34dbe65"
      },
      "source": [
        "np.argmax(new_model.predict(X_new),axis=-1)"
      ],
      "execution_count": 28,
      "outputs": [
        {
          "output_type": "execute_result",
          "data": {
            "text/plain": [
              "array([0, 1, 0])"
            ]
          },
          "metadata": {},
          "execution_count": 28
        }
      ]
    },
    {
      "cell_type": "code",
      "metadata": {
        "id": "2O4bpzofLmZs"
      },
      "source": [
        "def update_even_odd_labels(labels):#CHECK IT IS GREATER THEN 5 THE IT RETURN 1 ELSE IT RETRUN 0\n",
        "  for idx,label in enumerate(labels):\n",
        "    labels[idx]=np.where(label>5,1,0)#Here i am doing the changing \n",
        "  return labels"
      ],
      "execution_count": 29,
      "outputs": []
    },
    {
      "cell_type": "code",
      "metadata": {
        "id": "ShvnwJ5INT_3"
      },
      "source": [
        "y_train_bin,y_test_bin,y_valid_bin=update_even_odd_labels([y_train,y_test,y_valid])"
      ],
      "execution_count": 30,
      "outputs": []
    },
    {
      "cell_type": "code",
      "metadata": {
        "colab": {
          "base_uri": "https://localhost:8080/"
        },
        "id": "aX3YjL1ANgHP",
        "outputId": "b21983ce-70c7-4e6a-fc82-eb9bb9af4792"
      },
      "source": [
        "np.unique(y_valid_bin)"
      ],
      "execution_count": 31,
      "outputs": [
        {
          "output_type": "execute_result",
          "data": {
            "text/plain": [
              "array([0, 1])"
            ]
          },
          "metadata": {},
          "execution_count": 31
        }
      ]
    },
    {
      "cell_type": "code",
      "metadata": {
        "colab": {
          "base_uri": "https://localhost:8080/"
        },
        "id": "0dS-VJZkNkt5",
        "outputId": "a55bfbd9-6a9a-4771-b00b-8525e9b85598"
      },
      "source": [
        "new_model.compile(loss=\"sparse_categorical_crossentropy\",\n",
        "              optimizer=tf.keras.optimizers.SGD(learning_rate=1e-3),\n",
        "              metrics=[\"accuracy\"]\n",
        "              )\n",
        "#here is accuarcy is more then the previous trained .example of child and a graguate student who is more trained.\n",
        "#model zoo for in tensorflow .you can utilize this model.\n",
        "\n",
        "histroy=new_model.fit(X_train,y_train_bin,epochs=10,\n",
        "                  validation_data=(X_valid,y_valid_bin),verbose=2)"
      ],
      "execution_count": 32,
      "outputs": [
        {
          "output_type": "stream",
          "name": "stdout",
          "text": [
            "Epoch 1/10\n",
            "1719/1719 - 4s - loss: 0.6059 - accuracy: 0.7084 - val_loss: 0.4501 - val_accuracy: 0.7822\n",
            "Epoch 2/10\n",
            "1719/1719 - 4s - loss: 0.4172 - accuracy: 0.8162 - val_loss: 0.3871 - val_accuracy: 0.8392\n",
            "Epoch 3/10\n",
            "1719/1719 - 3s - loss: 0.3813 - accuracy: 0.8428 - val_loss: 0.3611 - val_accuracy: 0.8556\n",
            "Epoch 4/10\n",
            "1719/1719 - 4s - loss: 0.3635 - accuracy: 0.8536 - val_loss: 0.3471 - val_accuracy: 0.8628\n",
            "Epoch 5/10\n",
            "1719/1719 - 4s - loss: 0.3520 - accuracy: 0.8596 - val_loss: 0.3352 - val_accuracy: 0.8642\n",
            "Epoch 6/10\n",
            "1719/1719 - 4s - loss: 0.3435 - accuracy: 0.8638 - val_loss: 0.3279 - val_accuracy: 0.8674\n",
            "Epoch 7/10\n",
            "1719/1719 - 4s - loss: 0.3370 - accuracy: 0.8663 - val_loss: 0.3208 - val_accuracy: 0.8730\n",
            "Epoch 8/10\n",
            "1719/1719 - 4s - loss: 0.3315 - accuracy: 0.8697 - val_loss: 0.3159 - val_accuracy: 0.8746\n",
            "Epoch 9/10\n",
            "1719/1719 - 4s - loss: 0.3270 - accuracy: 0.8716 - val_loss: 0.3112 - val_accuracy: 0.8776\n",
            "Epoch 10/10\n",
            "1719/1719 - 4s - loss: 0.3232 - accuracy: 0.8733 - val_loss: 0.3069 - val_accuracy: 0.8792\n"
          ]
        }
      ]
    },
    {
      "cell_type": "code",
      "metadata": {
        "colab": {
          "base_uri": "https://localhost:8080/"
        },
        "id": "CfXayrgWN1PD",
        "outputId": "e87c3e5b-8386-4181-a2b7-6477b25cbf84"
      },
      "source": [
        "new_model.evaluate(X_test,y_test_bin)"
      ],
      "execution_count": 33,
      "outputs": [
        {
          "output_type": "stream",
          "name": "stdout",
          "text": [
            "313/313 [==============================] - 1s 2ms/step - loss: 0.3133 - accuracy: 0.8789\n"
          ]
        },
        {
          "output_type": "execute_result",
          "data": {
            "text/plain": [
              "[0.3132910430431366, 0.8788999915122986]"
            ]
          },
          "metadata": {},
          "execution_count": 33
        }
      ]
    },
    {
      "cell_type": "code",
      "metadata": {
        "colab": {
          "base_uri": "https://localhost:8080/"
        },
        "id": "IU_IQ0RVO9Ls",
        "outputId": "58119a9e-8f38-4714-e218-fe74435fd6d8"
      },
      "source": [
        "X_new=X_test[:3]\n",
        "\n",
        "y_test[:3],y_test_bin[:3]"
      ],
      "execution_count": 34,
      "outputs": [
        {
          "output_type": "execute_result",
          "data": {
            "text/plain": [
              "(array([7, 2, 1], dtype=uint8), array([1, 0, 0]))"
            ]
          },
          "metadata": {},
          "execution_count": 34
        }
      ]
    },
    {
      "cell_type": "code",
      "metadata": {
        "colab": {
          "base_uri": "https://localhost:8080/"
        },
        "id": "b_o_hQatPAnD",
        "outputId": "65d2a712-4f09-4314-cd8e-90e39666a9ad"
      },
      "source": [
        "np.argmax(new_model.predict(X_new),axis=-1)"
      ],
      "execution_count": 35,
      "outputs": [
        {
          "output_type": "execute_result",
          "data": {
            "text/plain": [
              "array([1, 0, 0])"
            ]
          },
          "metadata": {},
          "execution_count": 35
        }
      ]
    },
    {
      "cell_type": "code",
      "metadata": {
        "id": "IDufXm86PEIP"
      },
      "source": [
        ""
      ],
      "execution_count": 35,
      "outputs": []
    }
  ]
}